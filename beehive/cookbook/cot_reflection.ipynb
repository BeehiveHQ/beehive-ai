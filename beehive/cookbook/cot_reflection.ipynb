{
 "cells": [
  {
   "cell_type": "markdown",
   "metadata": {},
   "source": [
    "# COT-Reflection Agent"
   ]
  },
  {
   "cell_type": "markdown",
   "metadata": {},
   "source": [
    "## Imports"
   ]
  },
  {
   "cell_type": "code",
   "execution_count": 2,
   "metadata": {},
   "outputs": [],
   "source": [
    "from enum import Enum\n",
    "import json\n",
    "from jinja2 import Template\n",
    "import requests\n",
    "from typing import Literal\n",
    "\n",
    "from pydantic import BaseModel\n",
    "\n",
    "from beehive.invokable.agent import BeehiveAgent\n",
    "from beehive.models.openai_model import OpenAIModel"
   ]
  },
  {
   "cell_type": "markdown",
   "metadata": {},
   "source": [
    "## Tools"
   ]
  },
  {
   "cell_type": "code",
   "execution_count": 5,
   "metadata": {},
   "outputs": [],
   "source": [
    "class SearchDepth(str, Enum):\n",
    "    BASIC = \"basic\"\n",
    "    ADVANCED = \"advanced\"\n",
    "\n",
    "\n",
    "def tavily_search_tool(\n",
    "    query: str,\n",
    "    search_depth: SearchDepth = SearchDepth.BASIC,\n",
    "    include_images: bool = False,\n",
    "    include_answer: bool = True,\n",
    "    include_raw_content: bool = False,\n",
    "    max_results: int = 5,\n",
    "    include_domains: list[str] | None = None,\n",
    "    exclude_domains: list[str] | None = None,\n",
    "):\n",
    "    \"\"\"\n",
    "    Use this as a search engine optimized for comprehensive, accurate, and trusted\n",
    "    results. Very useful for when you need to answer questions about current events, or\n",
    "    if you need search the web for information.\n",
    "\n",
    "    :param query: search query\n",
    "    :type query: str\n",
    "    :param search_depth: depth of the search; basic should be used for quick results,\n",
    "        and advanced for indepth high quality results but longer response time, defaults\n",
    "        to basic\n",
    "    :type search_depth: class:`test.SearchDepth`\n",
    "    :param include_images: include a list of query related images in the response,\n",
    "        defaults to False\n",
    "    :type include_images: bool\n",
    "    :param include_answer: include answers in the search results, defaults to True\n",
    "    :type include_answer: bool\n",
    "    :param include_raw_content: include raw content in the search results, defaults to\n",
    "        False\n",
    "    :type include_raw_content: bool\n",
    "    :param max_results: number of maximum search results to return, defaults to 5.\n",
    "    :type max_results: int\n",
    "    :param include_domains: list of domains to specifically include in the search\n",
    "        results, defaults to None\n",
    "    :type include_domains: list[str], optional\n",
    "    :param exclude_domains: list of domains to specifically exclude from the search\n",
    "        results, defaults to None\n",
    "    :type exclude_domains: list[str], optional\n",
    "    \"\"\"\n",
    "    base_url = \"https://api.tavily.com/\"\n",
    "    endpoint = \"search\"\n",
    "    resp = requests.post(\n",
    "        f\"{base_url}{endpoint}\",\n",
    "        json={\n",
    "            \"api_key\": \"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\",\n",
    "            \"query\": query,\n",
    "            \"search_depth\": search_depth,\n",
    "            \"include_images\": include_images,\n",
    "            \"include_answer\": include_answer,\n",
    "            \"include_raw_content\": include_raw_content,\n",
    "            \"max_results\": max_results,\n",
    "            \"include_domains\": include_domains,\n",
    "            \"exclude_domains\": exclude_domains,\n",
    "        },\n",
    "    )\n",
    "    try:\n",
    "        return resp.json()[\"answer\"]\n",
    "    except json.JSONDecodeError as e:\n",
    "        print(e)\n",
    "        return \"Could not execute the Tavily search...Try again!\""
   ]
  },
  {
   "cell_type": "markdown",
   "metadata": {},
   "source": [
    "## Prompt"
   ]
  },
  {
   "cell_type": "code",
   "execution_count": 3,
   "metadata": {},
   "outputs": [],
   "source": [
    "REASONING_PROMPT_TEMPLATE = Template(\n",
    "\"\"\"{{backstory}} You are an AI reasoning agent that explains your reasoning step by step, incorporating dynamic Chain of Thought (CoT), reflection, and verbal reinforcement learning. Follow these instructions:\n",
    "\n",
    "<instructions>\n",
    "- Explore multiple angles and approaches when reasoning through the task.\n",
    "- You have access to the following tools:\n",
    "<tools>\n",
    "{{tools}}\n",
    "</tools>\n",
    "**You must use one of these tools during your thinking process**, but you do not have to use them immediately.\n",
    "- **Think through the solution step-by-step. RESPOND WITH ONLY ONE STEP PER RESPONSE.** Formatting the response must strictly adhere to the JSON schema for a single step.\n",
    "\n",
    "   **Do not group or combine multiple steps into a single response.**\n",
    "\n",
    "   Example of correct behavior: {\"step_number\": 1, ...} (single step).\n",
    "\n",
    "   Example of incorrect behavior: Multiple steps like {\"step_number\": 1, ...}, {\"step_number\": 2, ...} grouped in one response.\n",
    "\n",
    "The step should be formatted as a JSON instance that conforms to the JSON schema below.\n",
    "\n",
    "Here is the output schema for a step:\n",
    "<schema>\n",
    "{{step_output_schema}}\n",
    "</schema>\n",
    "\n",
    "- **You must use one of these tools during your thinking process, but you do not have to call a tool during every step. If you call a tool, then the \"action\" key in the step JSON should reflect the tool name.**\n",
    "- **After every three steps, your next action should be to reflect on your previous responses.** Reflection is a critical part of your process. After every 3 steps, review the reasoning so far by answering the following questions:\n",
    "   - Have you explored all angles of the problem?\n",
    "   - Have you considered potential biases in your approach?\n",
    "   - Could an alternative solution path be more effective?\n",
    "   - Is the confidence level in your current path sufficient?\n",
    "   - Have you used the available tools at your disposal effectively?\n",
    "\n",
    "  The reflection should be formatted and treated as a normal step but titled \"Reflection.\" **NEVER submit more than one step in a single response, including reflections.**\n",
    "- You have a {{step_budget}} step budget. Every step, including reflections, reduces your step budget by 1.\n",
    "- After each response, determine the next course of action.\n",
    "- **NEVER submit more than one step in a single response, including reflections.**\n",
    "- Continuously adjust your reasoning based on intermediate results and reflections, adapting your strategy as you progress.\n",
    "- Regularly evaluate your progress, being critical and honest about your reasoning process.\n",
    "- Assign a quality score between 0.0 and 1.0 to guide your approach:\n",
    "   - 0.8+: Continue current approach\n",
    "   - 0.5-0.7: Consider minor adjustments\n",
    "   - Below 0.5: Seriously consider backtracking and trying a different approach\n",
    "- If unsure or if your score is low, backtrack and try a different approach, explaining your decision.\n",
    "- For mathematical problems, show all work explicitly using LaTeX for formal notation and provide detailed proofs.\n",
    "- Explore multiple solutions individually if possible, comparing approaches in your reflections.\n",
    "- Use your thoughts as a scratchpad, writing out all calculations and reasoning explicitly.\n",
    "- Use at least 5 methods to derive the answer and consider alternative viewpoints.\n",
    "- Be aware of your limitations as an AI and what you can and cannot do.\n",
    "- **Provide a detailed and comprehensive final summary** at the end.\n",
    "</instructions>\n",
    "\n",
    "Your goal is to demonstrate a thorough, adaptive, and self-reflective problem-solving process. **But remember: always respond with ONE step per response.**\"\"\"\n",
    ")"
   ]
  },
  {
   "cell_type": "markdown",
   "metadata": {},
   "source": [
    "## Agent"
   ]
  },
  {
   "cell_type": "markdown",
   "metadata": {},
   "source": [
    "This agent achieves reflection by modifying four agent attributes:\n",
    "- `backstory` — instead of something simple like `You are a helpful AI assistant`, the backstory here is a more complex prompt that encourages the LLM to use chain-of-thought and reflection.\n",
    "- `chat_loop` – chain-of-thought and reflection require multiple iterations, so we force the agent to execute multiple times.\n",
    "- `response_model` - to process each thought and reflection, we require the output be a JSON that adheres to a specific schema.\n",
    "- `termination_condition` - we enable the agent to execute its internal execution loop if it comes to a final answer before `chat_loop` iterations."
   ]
  },
  {
   "cell_type": "code",
   "execution_count": 6,
   "metadata": {},
   "outputs": [
    {
     "data": {
      "text/html": [
       "<pre style=\"white-space:pre;overflow-x:auto;line-height:normal;font-family:Menlo,'DejaVu Sans Mono',consolas,'Courier New',monospace\"><span style=\"color: #ffffff; text-decoration-color: #ffffff\">------------------------------------------------------------------------------------------------------------------------</span>\n",
       "</pre>\n"
      ],
      "text/plain": [
       "\u001b[2;38;5;231m------------------------------------------------------------------------------------------------------------------------\u001b[0m\n"
      ]
     },
     "metadata": {},
     "output_type": "display_data"
    },
    {
     "data": {
      "text/html": [
       "<pre style=\"white-space:pre;overflow-x:auto;line-height:normal;font-family:Menlo,'DejaVu Sans Mono',consolas,'Courier New',monospace\"><span style=\"color: #87d700; text-decoration-color: #87d700\">ReasoningAgent</span>                                                                                                          \n",
       "                                                                                                                        \n",
       "<span style=\"color: #ffffff; text-decoration-color: #ffffff; font-style: italic\">What are the potential long-term effects of climate change on global agriculture?</span>                                       \n",
       "                                                                                                                        \n",
       "</pre>\n"
      ],
      "text/plain": [
       "\u001b[38;5;112mReasoningAgent\u001b[0m                                                                                                          \n",
       "                                                                                                                        \n",
       "\u001b[2;3;38;5;231mWhat are the potential long-term effects of climate change on global agriculture?\u001b[0m                                       \n",
       "                                                                                                                        \n"
      ]
     },
     "metadata": {},
     "output_type": "display_data"
    },
    {
     "data": {
      "text/html": [
       "<pre style=\"white-space:pre;overflow-x:auto;line-height:normal;font-family:Menlo,'DejaVu Sans Mono',consolas,'Courier New',monospace\">{\"title\":\"Initial Consideration\",\"content\":\"To address the question about the long-term effects of climate change on \n",
       "global agriculture, it's important to consider various factors such as changes in temperature, precipitation patterns, \n",
       "and the frequency of extreme weather events. These climatic changes can affect crop yields, soil fertility, and the \n",
       "prevalence of pests and diseases, all of which are crucial for agricultural \n",
       "productivity.\",\"action\":null,\"next_action\":\"continue\",\"confidence\":0.8,\"step_number\":1,\"remaining_step_budget\":4}\n",
       "</pre>\n"
      ],
      "text/plain": [
       "{\"title\":\"Initial Consideration\",\"content\":\"To address the question about the long-term effects of climate change on \n",
       "global agriculture, it's important to consider various factors such as changes in temperature, precipitation patterns, \n",
       "and the frequency of extreme weather events. These climatic changes can affect crop yields, soil fertility, and the \n",
       "prevalence of pests and diseases, all of which are crucial for agricultural \n",
       "productivity.\",\"action\":null,\"next_action\":\"continue\",\"confidence\":0.8,\"step_number\":1,\"remaining_step_budget\":4}\n"
      ]
     },
     "metadata": {},
     "output_type": "display_data"
    },
    {
     "data": {
      "text/html": [
       "<pre style=\"white-space:pre;overflow-x:auto;line-height:normal;font-family:Menlo,'DejaVu Sans Mono',consolas,'Courier New',monospace\">\n",
       "</pre>\n"
      ],
      "text/plain": [
       "\n"
      ]
     },
     "metadata": {},
     "output_type": "display_data"
    },
    {
     "data": {
      "text/html": [
       "<pre style=\"white-space:pre;overflow-x:auto;line-height:normal;font-family:Menlo,'DejaVu Sans Mono',consolas,'Courier New',monospace\">{\"title\":\"Search for Detailed Information\",\"content\":\"To provide a comprehensive answer, I will use the \n",
       "tavily_search_tool to gather detailed and reliable information on the long-term effects of climate change on global \n",
       "agriculture. This will include impacts on different types of crops, regions, and potential adaptation \n",
       "strategies.\",\"action\":\"tavily_search_tool\",\"next_action\":\"continue\",\"confidence\":0.8,\"step_number\":2,\"remaining_step_bud\n",
       "get\":3}\n",
       "\n",
       "Climate change is expected to have significant long-term effects on global agriculture, impacting the reliability and \n",
       "sustainability of food production systems. This includes challenges such as the need for accelerated adoption of \n",
       "practices and technologies to enhance agriculture's environmental sustainability and climate resilience. Studies \n",
       "indicate that climate change is likely to exacerbate the environmental impacts already present in agriculture, \n",
       "emphasizing the importance of ensuring the resilience and sustainability of food production systems in the face of \n",
       "ongoing climate change. Additionally, research suggests that global climate change may lead to shifts in crop yields \n",
       "within the next decade, with potential worldwide implications due to the interconnectedness of the global food system.\n",
       "</pre>\n"
      ],
      "text/plain": [
       "{\"title\":\"Search for Detailed Information\",\"content\":\"To provide a comprehensive answer, I will use the \n",
       "tavily_search_tool to gather detailed and reliable information on the long-term effects of climate change on global \n",
       "agriculture. This will include impacts on different types of crops, regions, and potential adaptation \n",
       "strategies.\",\"action\":\"tavily_search_tool\",\"next_action\":\"continue\",\"confidence\":0.8,\"step_number\":2,\"remaining_step_bud\n",
       "get\":3}\n",
       "\n",
       "Climate change is expected to have significant long-term effects on global agriculture, impacting the reliability and \n",
       "sustainability of food production systems. This includes challenges such as the need for accelerated adoption of \n",
       "practices and technologies to enhance agriculture's environmental sustainability and climate resilience. Studies \n",
       "indicate that climate change is likely to exacerbate the environmental impacts already present in agriculture, \n",
       "emphasizing the importance of ensuring the resilience and sustainability of food production systems in the face of \n",
       "ongoing climate change. Additionally, research suggests that global climate change may lead to shifts in crop yields \n",
       "within the next decade, with potential worldwide implications due to the interconnectedness of the global food system.\n"
      ]
     },
     "metadata": {},
     "output_type": "display_data"
    },
    {
     "data": {
      "text/html": [
       "<pre style=\"white-space:pre;overflow-x:auto;line-height:normal;font-family:Menlo,'DejaVu Sans Mono',consolas,'Courier New',monospace\">\n",
       "</pre>\n"
      ],
      "text/plain": [
       "\n"
      ]
     },
     "metadata": {},
     "output_type": "display_data"
    },
    {
     "data": {
      "text/html": [
       "<pre style=\"white-space:pre;overflow-x:auto;line-height:normal;font-family:Menlo,'DejaVu Sans Mono',consolas,'Courier New',monospace\">{\"title\":\"Summary of Research Findings\",\"content\":\"Research indicates that climate change will significantly impact \n",
       "global agriculture by altering crop yields, necessitating the adoption of new agricultural practices and technologies. \n",
       "These changes are due to shifts in temperature, precipitation, and the occurrence of extreme weather events. The \n",
       "interconnectedness of the global food system means that changes in one region can have ripple effects worldwide, \n",
       "affecting food security and economic \n",
       "stability.\",\"action\":null,\"next_action\":\"reflect\",\"confidence\":0.9,\"step_number\":3,\"remaining_step_budget\":2}\n",
       "</pre>\n"
      ],
      "text/plain": [
       "{\"title\":\"Summary of Research Findings\",\"content\":\"Research indicates that climate change will significantly impact \n",
       "global agriculture by altering crop yields, necessitating the adoption of new agricultural practices and technologies. \n",
       "These changes are due to shifts in temperature, precipitation, and the occurrence of extreme weather events. The \n",
       "interconnectedness of the global food system means that changes in one region can have ripple effects worldwide, \n",
       "affecting food security and economic \n",
       "stability.\",\"action\":null,\"next_action\":\"reflect\",\"confidence\":0.9,\"step_number\":3,\"remaining_step_budget\":2}\n"
      ]
     },
     "metadata": {},
     "output_type": "display_data"
    },
    {
     "data": {
      "text/html": [
       "<pre style=\"white-space:pre;overflow-x:auto;line-height:normal;font-family:Menlo,'DejaVu Sans Mono',consolas,'Courier New',monospace\">\n",
       "</pre>\n"
      ],
      "text/plain": [
       "\n"
      ]
     },
     "metadata": {},
     "output_type": "display_data"
    },
    {
     "data": {
      "text/html": [
       "<pre style=\"white-space:pre;overflow-x:auto;line-height:normal;font-family:Menlo,'DejaVu Sans Mono',consolas,'Courier New',monospace\">{\"title\":\"Reflection\",\"content\":\"So far, I have identified the key impacts of climate change on global agriculture, such\n",
       "as changes in crop yields and the need for new agricultural practices. I have used the tavily_search_tool to gather \n",
       "detailed information, which has provided a solid foundation for understanding the broader implications. The approach \n",
       "seems effective, but it might be beneficial to explore specific examples of how different regions might be affected \n",
       "differently, which could provide a more nuanced understanding of the global \n",
       "impact.\",\"action\":null,\"next_action\":\"final_answer\",\"confidence\":0.85,\"step_number\":4,\"remaining_step_budget\":1}\n",
       "</pre>\n"
      ],
      "text/plain": [
       "{\"title\":\"Reflection\",\"content\":\"So far, I have identified the key impacts of climate change on global agriculture, such\n",
       "as changes in crop yields and the need for new agricultural practices. I have used the tavily_search_tool to gather \n",
       "detailed information, which has provided a solid foundation for understanding the broader implications. The approach \n",
       "seems effective, but it might be beneficial to explore specific examples of how different regions might be affected \n",
       "differently, which could provide a more nuanced understanding of the global \n",
       "impact.\",\"action\":null,\"next_action\":\"final_answer\",\"confidence\":0.85,\"step_number\":4,\"remaining_step_budget\":1}\n"
      ]
     },
     "metadata": {},
     "output_type": "display_data"
    },
    {
     "data": {
      "text/html": [
       "<pre style=\"white-space:pre;overflow-x:auto;line-height:normal;font-family:Menlo,'DejaVu Sans Mono',consolas,'Courier New',monospace\">\n",
       "</pre>\n"
      ],
      "text/plain": [
       "\n"
      ]
     },
     "metadata": {},
     "output_type": "display_data"
    },
    {
     "data": {
      "text/html": [
       "<pre style=\"white-space:pre;overflow-x:auto;line-height:normal;font-family:Menlo,'DejaVu Sans Mono',consolas,'Courier New',monospace\">{\"title\":\"Final Summary\",\"content\":\"Climate change is poised to significantly alter global agriculture over the long \n",
       "term. Key impacts include changes in crop yields due to shifts in temperature and precipitation patterns, and increased \n",
       "frequency of extreme weather events. These changes necessitate the adoption of new agricultural practices and \n",
       "technologies to enhance resilience and sustainability. The interconnectedness of the global food system means that \n",
       "regional changes can have global ripple effects, impacting food security and economic stability worldwide. It's crucial \n",
       "for ongoing research and adaptive strategies to address these challenges to ensure the sustainability of food production\n",
       "systems in the face of climate \n",
       "change.\",\"action\":\"final_answer\",\"next_action\":\"final_answer\",\"confidence\":0.9,\"step_number\":5,\"remaining_step_budget\":0\n",
       "}\n",
       "</pre>\n"
      ],
      "text/plain": [
       "{\"title\":\"Final Summary\",\"content\":\"Climate change is poised to significantly alter global agriculture over the long \n",
       "term. Key impacts include changes in crop yields due to shifts in temperature and precipitation patterns, and increased \n",
       "frequency of extreme weather events. These changes necessitate the adoption of new agricultural practices and \n",
       "technologies to enhance resilience and sustainability. The interconnectedness of the global food system means that \n",
       "regional changes can have global ripple effects, impacting food security and economic stability worldwide. It's crucial \n",
       "for ongoing research and adaptive strategies to address these challenges to ensure the sustainability of food production\n",
       "systems in the face of climate \n",
       "change.\",\"action\":\"final_answer\",\"next_action\":\"final_answer\",\"confidence\":0.9,\"step_number\":5,\"remaining_step_budget\":0\n",
       "}\n"
      ]
     },
     "metadata": {},
     "output_type": "display_data"
    },
    {
     "data": {
      "text/html": [
       "<pre style=\"white-space:pre;overflow-x:auto;line-height:normal;font-family:Menlo,'DejaVu Sans Mono',consolas,'Courier New',monospace\"><span style=\"color: #ffffff; text-decoration-color: #ffffff\">------------------------------------------------------------------------------------------------------------------------</span>\n",
       "</pre>\n"
      ],
      "text/plain": [
       "\u001b[2;38;5;231m------------------------------------------------------------------------------------------------------------------------\u001b[0m\n"
      ]
     },
     "metadata": {},
     "output_type": "display_data"
    }
   ],
   "source": [
    "CHAT_LOOP = 5\n",
    "\n",
    "class StepOutput(BaseModel):\n",
    "    title: str\n",
    "    content: str\n",
    "    action: Literal[\"tavily_search_tool\", \"final_answer\"] | None\n",
    "    next_action: Literal[\"continue\", \"reflect\", \"final_answer\"]\n",
    "    confidence: float\n",
    "    step_number: int\n",
    "    remaining_step_budget: int\n",
    "\n",
    "reasoning_agent_backstory = REASONING_PROMPT = REASONING_PROMPT_TEMPLATE.render(\n",
    "    backstory=\"You are a helpful AI assistant\",\n",
    "    tools=\"tavily_search_tool: Use this as a search engine optimized for comprehensive, accurate, and trusted results. Very useful for when you need to answer questions about current events, or if you need search the web for information.\",\n",
    "    step_output_schema=json.dumps(StepOutput.schema()),\n",
    "    step_budget=str(CHAT_LOOP),\n",
    ")\n",
    "\n",
    "agent = BeehiveAgent(\n",
    "    name=\"ReasoningAgent\",\n",
    "    backstory=reasoning_agent_backstory,\n",
    "    model=OpenAIModel(\n",
    "        model=\"gpt-4-turbo\",\n",
    "    ),\n",
    "    tools=[tavily_search_tool],\n",
    "    chat_loop=CHAT_LOOP,\n",
    "    response_model=StepOutput,\n",
    "    termination_condition=lambda x: x.action == \"final_answer\"\n",
    ")\n",
    "\n",
    "output = agent.invoke(\n",
    "    \"What are the potential long-term effects of climate change on global agriculture?\",\n",
    "    pass_back_model_errors=True,\n",
    ")"
   ]
  }
 ],
 "metadata": {
  "kernelspec": {
   "display_name": "beehive-ai-B8p-iKfK",
   "language": "python",
   "name": "python3"
  },
  "language_info": {
   "codemirror_mode": {
    "name": "ipython",
    "version": 3
   },
   "file_extension": ".py",
   "mimetype": "text/x-python",
   "name": "python",
   "nbconvert_exporter": "python",
   "pygments_lexer": "ipython3",
   "version": "3.12.6"
  }
 },
 "nbformat": 4,
 "nbformat_minor": 2
}
